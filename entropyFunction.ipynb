{
 "cells": [
  {
   "cell_type": "markdown",
   "metadata": {},
   "source": [
    "## Calculate Entropy of a Collection of Items from a list of Item Type Counts of a Collection"
   ]
  },
  {
   "cell_type": "code",
   "execution_count": 2,
   "metadata": {},
   "outputs": [],
   "source": [
    "\"\"\"Author: Brian Troy.  btroy93401@yahoo.com\"\"\"\n",
    "\n",
    "import math\n",
    "import statistics\n",
    "import pandas as pd\n",
    "import numpy as np\n",
    "\n",
    "import math\n",
    "def entropy(nList):\n",
    "    \"\"\"Given a list of counts of individual objects ( eg. 5 red balls & 1 green ball), the function calculates their individal probabilies of occurance,\n",
    "    then returns the Average Entropy\"\"\"\n",
    "    listSum = 0 #Total count of all objects\n",
    "    pList = []\n",
    "    for number in nList:\n",
    "        listSum += number\n",
    "    pList = [(number/listSum) for number in nList] #Probability of picking an object type.  Count of objects of a single type divided by total object count.\n",
    "    H = 0 #Entropy starts at 0\n",
    "    for p in pList: #p is probability picking a single object type.\n",
    "        H += (-p*math.log(p,2)) #Sums all the individual entropies to get the oberall Entropy (H)\n",
    "    return H"
   ]
  },
  {
   "cell_type": "code",
   "execution_count": 12,
   "metadata": {},
   "outputs": [
    {
     "data": {
      "text/plain": [
       "1.5058231002082845"
      ]
     },
     "execution_count": 12,
     "metadata": {},
     "output_type": "execute_result"
    }
   ],
   "source": [
    "#The Entropy (H) of a collection of 5 apples, 3 oranges, and 7 bananas =\n",
    "fruits = [5,3,7]\n",
    "entropy(fruits)\n",
    "#This is the information gain for this particular group of objects"
   ]
  },
  {
   "cell_type": "code",
   "execution_count": 13,
   "metadata": {},
   "outputs": [
    {
     "data": {
      "text/plain": [
       "0.9967916319816366"
      ]
     },
     "execution_count": 13,
     "metadata": {},
     "output_type": "execute_result"
    }
   ],
   "source": [
    "#If we went with round vs. cyllindrical, we'd have 8 & 7:\n",
    "shape = [8,7]\n",
    "entropy(shape)"
   ]
  },
  {
   "cell_type": "markdown",
   "metadata": {},
   "source": [
    "## If we were building a decision tree, we would choose to split on category 'fruits' instead of 'shape', becase it has higher entropy (more information)."
   ]
  },
  {
   "cell_type": "code",
   "execution_count": null,
   "metadata": {},
   "outputs": [],
   "source": []
  }
 ],
 "metadata": {
  "kernelspec": {
   "display_name": "Python [conda env:.conda-tensorflowML]",
   "language": "python",
   "name": "conda-env-.conda-tensorflowML-py"
  },
  "language_info": {
   "codemirror_mode": {
    "name": "ipython",
    "version": 3
   },
   "file_extension": ".py",
   "mimetype": "text/x-python",
   "name": "python",
   "nbconvert_exporter": "python",
   "pygments_lexer": "ipython3",
   "version": "3.7.9"
  }
 },
 "nbformat": 4,
 "nbformat_minor": 2
}
