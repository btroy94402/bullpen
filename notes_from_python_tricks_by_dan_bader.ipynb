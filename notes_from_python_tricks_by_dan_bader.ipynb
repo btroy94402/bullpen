{
 "cells": [
  {
   "cell_type": "markdown",
   "id": "270677fd",
   "metadata": {},
   "source": [
    "# Code examples of concepts in 'Python Tricks' by Dan Bader"
   ]
  },
  {
   "cell_type": "markdown",
   "id": "7463dc93",
   "metadata": {},
   "source": [
    "#### After each section, I code a few snippets to practice what I learned in the book."
   ]
  },
  {
   "cell_type": "markdown",
   "id": "6e3a5e9f",
   "metadata": {},
   "source": [
    "### Sec 2.1 - Assertions"
   ]
  },
  {
   "cell_type": "markdown",
   "id": "f75a64ce",
   "metadata": {},
   "source": [
    "Key Takeaways: Python's assert statement is a debugging aid.  It tests an internal condition of the program.  It only be used to identify bugs, not to handle runtime errors.  Asserts can be globally disabled, and when written with a tuple, will always evaluate to true."
   ]
  },
  {
   "cell_type": "code",
   "execution_count": 1,
   "id": "4d86db68",
   "metadata": {},
   "outputs": [],
   "source": [
    "def coupon_savings(item, discount):\n",
    "    \"\"\"Function takes an item (dictionary), and a percent discount, and returns the discount price\"\"\"\n",
    "    price = int(item['price']*(1-discount))\n",
    "    assert 0 <= price <= item['price'], \"Your discount should be between 0 and 1\"\n",
    "    return price\n",
    "\n",
    "bicycle = {'name': 'BMX', 'price':25000} # avoid rounding errors by using an integer price, not decimal price."
   ]
  },
  {
   "cell_type": "code",
   "execution_count": 2,
   "id": "1c1692e4",
   "metadata": {},
   "outputs": [
    {
     "data": {
      "text/plain": [
       "12500"
      ]
     },
     "execution_count": 2,
     "metadata": {},
     "output_type": "execute_result"
    }
   ],
   "source": [
    "# valid discount\n",
    "coupon_savings(bicycle, 0.5) "
   ]
  },
  {
   "cell_type": "code",
   "execution_count": 3,
   "id": "8446a07f",
   "metadata": {},
   "outputs": [
    {
     "ename": "AssertionError",
     "evalue": "Your discount should be between 0 and 1",
     "output_type": "error",
     "traceback": [
      "\u001b[1;31m---------------------------------------------------------------------------\u001b[0m",
      "\u001b[1;31mAssertionError\u001b[0m                            Traceback (most recent call last)",
      "\u001b[1;32m<ipython-input-3-7df858ecc030>\u001b[0m in \u001b[0;36m<module>\u001b[1;34m\u001b[0m\n\u001b[0;32m      1\u001b[0m \u001b[1;31m#invalid discount\u001b[0m\u001b[1;33m\u001b[0m\u001b[1;33m\u001b[0m\u001b[1;33m\u001b[0m\u001b[0m\n\u001b[1;32m----> 2\u001b[1;33m \u001b[0mcoupon_savings\u001b[0m\u001b[1;33m(\u001b[0m\u001b[0mbicycle\u001b[0m\u001b[1;33m,\u001b[0m \u001b[1;33m-\u001b[0m\u001b[1;36m0.5\u001b[0m\u001b[1;33m)\u001b[0m\u001b[1;33m\u001b[0m\u001b[1;33m\u001b[0m\u001b[0m\n\u001b[0m",
      "\u001b[1;32m<ipython-input-1-c6a71b085b83>\u001b[0m in \u001b[0;36mcoupon_savings\u001b[1;34m(item, discount)\u001b[0m\n\u001b[0;32m      2\u001b[0m     \u001b[1;34m\"\"\"Function takes an item (dictionary), and a percent discount, and returns the discount price\"\"\"\u001b[0m\u001b[1;33m\u001b[0m\u001b[1;33m\u001b[0m\u001b[0m\n\u001b[0;32m      3\u001b[0m     \u001b[0mprice\u001b[0m \u001b[1;33m=\u001b[0m \u001b[0mint\u001b[0m\u001b[1;33m(\u001b[0m\u001b[0mitem\u001b[0m\u001b[1;33m[\u001b[0m\u001b[1;34m'price'\u001b[0m\u001b[1;33m]\u001b[0m\u001b[1;33m*\u001b[0m\u001b[1;33m(\u001b[0m\u001b[1;36m1\u001b[0m\u001b[1;33m-\u001b[0m\u001b[0mdiscount\u001b[0m\u001b[1;33m)\u001b[0m\u001b[1;33m)\u001b[0m\u001b[1;33m\u001b[0m\u001b[1;33m\u001b[0m\u001b[0m\n\u001b[1;32m----> 4\u001b[1;33m     \u001b[1;32massert\u001b[0m \u001b[1;36m0\u001b[0m \u001b[1;33m<=\u001b[0m \u001b[0mprice\u001b[0m \u001b[1;33m<=\u001b[0m \u001b[0mitem\u001b[0m\u001b[1;33m[\u001b[0m\u001b[1;34m'price'\u001b[0m\u001b[1;33m]\u001b[0m\u001b[1;33m,\u001b[0m \u001b[1;34m\"Your discount should be between 0 and 1\"\u001b[0m\u001b[1;33m\u001b[0m\u001b[1;33m\u001b[0m\u001b[0m\n\u001b[0m\u001b[0;32m      5\u001b[0m     \u001b[1;32mreturn\u001b[0m \u001b[0mprice\u001b[0m\u001b[1;33m\u001b[0m\u001b[1;33m\u001b[0m\u001b[0m\n\u001b[0;32m      6\u001b[0m \u001b[1;33m\u001b[0m\u001b[0m\n",
      "\u001b[1;31mAssertionError\u001b[0m: Your discount should be between 0 and 1"
     ]
    }
   ],
   "source": [
    "#invalid discount\n",
    "coupon_savings(bicycle, -0.5)"
   ]
  },
  {
   "cell_type": "code",
   "execution_count": null,
   "id": "eff5e9e3",
   "metadata": {},
   "outputs": [],
   "source": [
    "#invalid discount\n",
    "coupon_savings(bicycle, 1.1)"
   ]
  },
  {
   "cell_type": "markdown",
   "id": "4483d9d1",
   "metadata": {},
   "source": [
    "### Assertion Caveats"
   ]
  },
  {
   "cell_type": "markdown",
   "id": "b44db55d",
   "metadata": {},
   "source": [
    "1) Don't use assertions for data validation - They can be turned off at runtime"
   ]
  },
  {
   "cell_type": "markdown",
   "id": "70481d98",
   "metadata": {},
   "source": [
    "2) Never write an assertion with a tuple.  It will always evaluate to True and it will never fail."
   ]
  },
  {
   "cell_type": "markdown",
   "id": "86717c86",
   "metadata": {},
   "source": [
    "<hr>"
   ]
  },
  {
   "cell_type": "markdown",
   "id": "ead518bf",
   "metadata": {},
   "source": []
  }
 ],
 "metadata": {
  "kernelspec": {
   "display_name": "Python 3",
   "language": "python",
   "name": "python3"
  },
  "language_info": {
   "codemirror_mode": {
    "name": "ipython",
    "version": 3
   },
   "file_extension": ".py",
   "mimetype": "text/x-python",
   "name": "python",
   "nbconvert_exporter": "python",
   "pygments_lexer": "ipython3",
   "version": "3.6.13"
  }
 },
 "nbformat": 4,
 "nbformat_minor": 5
}
